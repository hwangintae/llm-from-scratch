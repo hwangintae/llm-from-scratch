{
 "cells": [
  {
   "metadata": {},
   "cell_type": "markdown",
   "source": [
    "# Attention 메커니즘 구현하기\n",
    "\n",
    "## 3.1 긴 시퀀스 모델링의 문제점\n",
    "- Attention 이전의 문제점\n",
    "    - RNN 이전 스텝의 출력이 현재 스텝의 입력으로 사용되는 신경망\n",
    "    - 핵심 idea는 encoder가 전체 입력 텍스트를 하나의 은닉 상태로 처리\n",
    "    - decoder가 이 은닉 상태를 받아 출력을 생성\n",
    "    - RNN의 제약사항은 decoder가 encoder 이전의 은닉 상태를 참조할 수 없다는 것\n",
    "    - **즉, 맥락을 놓칠 수 있다.**\n",
    "\n",
    "## 3.2 Attention 메커니즘으로 데이터 의존성 포착하기\n",
    "- Bahdanau attention은 RNN을 수정하여 decoding 단계마다 decoder가 선택적으로 입력 시퀀스의 서로 다른 부분을 참조할 수 있다.\n",
    "- self Attention은 시퀀스의 표현을 계산할 때 입력 시퀀스에 있는 각 위치가 동일 시퀀스에 있는 다른 모든 위치와의 관련성을 고려하거나 주의를 기울일 수 있다.\n",
    "\n",
    "## self Attention으로 입력의 서로 다른 부분에 주의 기울이기\n",
    "- self는 하나의 입력 시퀀스에 있는 **서로 다른 위치의 원소 사이에 어텐션 가중치를 계산**하는 방식을 의미\n",
    "- self Attention의 목표\n",
    "    - 다른 모든 입력 원소의 정보를 조합하여\n",
    "    - 각각의 입력 원소에 대한 문맥 벡터를 계산하는 것\n",
    "\n",
    "### 3.3.1 훈련 가능한 가중치가 없는 간단한 self Attention 메커니즘\n",
    "- \"Your journey starts with one step\"\n",
    "- x는 특정 토큰을 표현하는 d 차원 임베딩 벡터다\n",
    "    - \"Your\" [0.4][0.1][0.8] (예시는 3차원 벡터)\n",
    "    - 문맥 벡터인 z는 x1 ~ xt(여기서 t는 상수) 사이의 정보를 담은 임베딩이다.\n",
    "    - 문맥 벡터는 입력 시퀀스에 있는 모든 원소의 정보를 통합해 각 원소의 표현을 풍부하게 만드는 것이 목적이다.\n",
    "\n",
    "다음은 3차원 벡터로 임베딩된 입력 시퀀스가 있다고 가정"
   ],
   "id": "2d790a2aab1e1b14"
  },
  {
   "metadata": {
    "ExecuteTime": {
     "end_time": "2025-10-26T13:56:25.213645Z",
     "start_time": "2025-10-26T13:56:25.209089Z"
    }
   },
   "cell_type": "code",
   "source": [
    "import torch\n",
    "\n",
    "inputs = torch.tensor(\n",
    "    [[0.43, 0.15, 0.89],    # Your\n",
    "     [0.55, 0.87, 0.66],    # journey\n",
    "     [0.57, 0.85, 0.64],    # starts\n",
    "     [0.22, 0.58, 0.33],    # with\n",
    "     [0.77, 0.25, 0.10],    # one\n",
    "     [0.05, 0.80, 0.55]]    # step\n",
    ")"
   ],
   "id": "f6f1b34b879a4086",
   "outputs": [],
   "execution_count": 48
  },
  {
   "metadata": {},
   "cell_type": "markdown",
   "source": [
    "- self Attention 구현의 첫 단계는 attention score를 계산하는 것이다.\n",
    "- attention score는 쿼리 x와 다른 모든 입력 토큰 사이의 점곱으로 결정한다."
   ],
   "id": "f524753faa717465"
  },
  {
   "metadata": {
    "ExecuteTime": {
     "end_time": "2025-10-26T13:56:25.224416Z",
     "start_time": "2025-10-26T13:56:25.220371Z"
    }
   },
   "cell_type": "code",
   "source": [
    "query = inputs[1]\n",
    "\n",
    "attn_scores_2 = torch.empty(inputs.shape[0])\n",
    "for i, x_i in enumerate(inputs):\n",
    "    attn_scores_2[i] = torch.dot(x_i, query)\n",
    "\n",
    "print(attn_scores_2)"
   ],
   "id": "4fb1aa5f5c657400",
   "outputs": [
    {
     "name": "stdout",
     "output_type": "stream",
     "text": [
      "tensor([0.9544, 1.4950, 1.4754, 0.8434, 0.7070, 1.0865])\n"
     ]
    }
   ],
   "execution_count": 49
  },
  {
   "metadata": {},
   "cell_type": "markdown",
   "source": [
    "> [!note]\n",
    "> - 점곱은 두 벡터를 원소끼리 곱한 다음 모두 더하는 방법이다.\n",
    "> - 점곱은 하나의 유사도 척도로 볼 수 있다. (두 벡터가 얼마나 가까이 놓여 있는지 정량화할 수 있기 때문)\n",
    "> - 점곱이 높을수록 두 원소 사이의 유사도와 attention score가 높다."
   ],
   "id": "3e73bed48b518129"
  },
  {
   "metadata": {
    "ExecuteTime": {
     "end_time": "2025-10-26T13:56:25.249451Z",
     "start_time": "2025-10-26T13:56:25.245617Z"
    }
   },
   "cell_type": "code",
   "source": [
    "res = 0\n",
    "for idx, element in enumerate(inputs[0]):\n",
    "    res += inputs[0][idx] * query[idx]\n",
    "\n",
    "print(res)\n",
    "print(torch.dot(inputs[0], query))"
   ],
   "id": "4eba7ed4bd63504d",
   "outputs": [
    {
     "name": "stdout",
     "output_type": "stream",
     "text": [
      "tensor(0.9544)\n",
      "tensor(0.9544)\n"
     ]
    }
   ],
   "execution_count": 50
  },
  {
   "metadata": {},
   "cell_type": "markdown",
   "source": [
    "- attention score 정규화는 attention 가중치의 합이 1이 되도록 하기 위해서다.\n",
    "- 정규화는 해석하기 용이하고 LLM 훈련 시 안정성을 유지하는 데 도움이 된다."
   ],
   "id": "293ddafae2f639f2"
  },
  {
   "metadata": {
    "ExecuteTime": {
     "end_time": "2025-10-26T13:56:25.262919Z",
     "start_time": "2025-10-26T13:56:25.259640Z"
    }
   },
   "cell_type": "code",
   "source": [
    "attn_weights_2_tmp = attn_scores_2 / attn_scores_2.sum()\n",
    "\n",
    "print(\"attention weights: \", attn_weights_2_tmp)\n",
    "print(\"합: \", attn_weights_2_tmp.sum())"
   ],
   "id": "916e90c955526b0a",
   "outputs": [
    {
     "name": "stdout",
     "output_type": "stream",
     "text": [
      "attention weights:  tensor([0.1455, 0.2278, 0.2249, 0.1285, 0.1077, 0.1656])\n",
      "합:  tensor(1.0000)\n"
     ]
    }
   ],
   "execution_count": 51
  },
  {
   "metadata": {},
   "cell_type": "markdown",
   "source": [
    "- attention score를 softmax로 정규화\n",
    "- softmax는 attention weights 합이 1이다."
   ],
   "id": "aefbc2efe3074c8a"
  },
  {
   "metadata": {
    "ExecuteTime": {
     "end_time": "2025-10-26T13:56:25.274077Z",
     "start_time": "2025-10-26T13:56:25.270951Z"
    }
   },
   "cell_type": "code",
   "source": [
    "attn_weights_2 = torch.softmax(attn_scores_2, dim=0)\n",
    "\n",
    "print(\"attention weights: \", attn_weights_2)\n",
    "print(\"합: \", attn_weights_2.sum())"
   ],
   "id": "b219d8e69e7d3002",
   "outputs": [
    {
     "name": "stdout",
     "output_type": "stream",
     "text": [
      "attention weights:  tensor([0.1385, 0.2379, 0.2333, 0.1240, 0.1082, 0.1581])\n",
      "합:  tensor(1.)\n"
     ]
    }
   ],
   "execution_count": 52
  },
  {
   "metadata": {},
   "cell_type": "markdown",
   "source": "- 임베딩된 입력 토큰 x와 각 토큰에 해당하는 attention 가중치를 곱한 후 모두 더해서 문맥 벡터 z 계산",
   "id": "43e37073acd9f7a3"
  },
  {
   "metadata": {
    "ExecuteTime": {
     "end_time": "2025-10-26T13:56:25.286531Z",
     "start_time": "2025-10-26T13:56:25.283687Z"
    }
   },
   "cell_type": "code",
   "source": [
    "query = inputs[1]\n",
    "context_vec_2 = torch.zeros(query.shape)\n",
    "\n",
    "for i, x_i in enumerate(inputs):\n",
    "    context_vec_2 += attn_weights_2[i] * x_i\n",
    "\n",
    "print(context_vec_2)"
   ],
   "id": "c0ab16f659fa3959",
   "outputs": [
    {
     "name": "stdout",
     "output_type": "stream",
     "text": [
      "tensor([0.4419, 0.6515, 0.5683])\n"
     ]
    }
   ],
   "execution_count": 53
  },
  {
   "metadata": {},
   "cell_type": "markdown",
   "source": [
    "### 3.3.2 모든 입력 토큰에 대해 attention 가중치 계산하기\n",
    "- 모든 문맥 벡터를 계산하기 위해 코드 수정"
   ],
   "id": "12473572af11a9f0"
  },
  {
   "metadata": {
    "ExecuteTime": {
     "end_time": "2025-10-26T13:56:25.300447Z",
     "start_time": "2025-10-26T13:56:25.297115Z"
    }
   },
   "cell_type": "code",
   "source": [
    "attn_scores = torch.empty(6, 6)\n",
    "\n",
    "for i, x_i in enumerate(inputs):\n",
    "    for j, x_j in enumerate(inputs):\n",
    "        attn_scores[i, j] = torch.dot(x_i, x_j)\n",
    "\n",
    "print(attn_scores)"
   ],
   "id": "812b321503172b9f",
   "outputs": [
    {
     "name": "stdout",
     "output_type": "stream",
     "text": [
      "tensor([[0.9995, 0.9544, 0.9422, 0.4753, 0.4576, 0.6310],\n",
      "        [0.9544, 1.4950, 1.4754, 0.8434, 0.7070, 1.0865],\n",
      "        [0.9422, 1.4754, 1.4570, 0.8296, 0.7154, 1.0605],\n",
      "        [0.4753, 0.8434, 0.8296, 0.4937, 0.3474, 0.6565],\n",
      "        [0.4576, 0.7070, 0.7154, 0.3474, 0.6654, 0.2935],\n",
      "        [0.6310, 1.0865, 1.0605, 0.6565, 0.2935, 0.9450]])\n"
     ]
    }
   ],
   "execution_count": 54
  },
  {
   "metadata": {},
   "cell_type": "markdown",
   "source": "- 행렬 곱셈을 사용한 결과",
   "id": "96ce1291c2e72d3e"
  },
  {
   "metadata": {
    "ExecuteTime": {
     "end_time": "2025-10-26T13:56:25.310887Z",
     "start_time": "2025-10-26T13:56:25.308282Z"
    }
   },
   "cell_type": "code",
   "source": [
    "attn_scores = inputs @ inputs.T\n",
    "print(attn_scores)"
   ],
   "id": "862a7ebaac42dac0",
   "outputs": [
    {
     "name": "stdout",
     "output_type": "stream",
     "text": [
      "tensor([[0.9995, 0.9544, 0.9422, 0.4753, 0.4576, 0.6310],\n",
      "        [0.9544, 1.4950, 1.4754, 0.8434, 0.7070, 1.0865],\n",
      "        [0.9422, 1.4754, 1.4570, 0.8296, 0.7154, 1.0605],\n",
      "        [0.4753, 0.8434, 0.8296, 0.4937, 0.3474, 0.6565],\n",
      "        [0.4576, 0.7070, 0.7154, 0.3474, 0.6654, 0.2935],\n",
      "        [0.6310, 1.0865, 1.0605, 0.6565, 0.2935, 0.9450]])\n"
     ]
    }
   ],
   "execution_count": 55
  },
  {
   "metadata": {},
   "cell_type": "markdown",
   "source": "- 모든 합이 1이 되도록 정규화",
   "id": "742d6338e2ce9c76"
  },
  {
   "metadata": {
    "ExecuteTime": {
     "end_time": "2025-10-26T13:56:25.323492Z",
     "start_time": "2025-10-26T13:56:25.320343Z"
    }
   },
   "cell_type": "code",
   "source": [
    "attn_weights = torch.softmax(attn_scores, dim=-1)\n",
    "print(attn_weights)"
   ],
   "id": "1d462b8f3ba48625",
   "outputs": [
    {
     "name": "stdout",
     "output_type": "stream",
     "text": [
      "tensor([[0.2098, 0.2006, 0.1981, 0.1242, 0.1220, 0.1452],\n",
      "        [0.1385, 0.2379, 0.2333, 0.1240, 0.1082, 0.1581],\n",
      "        [0.1390, 0.2369, 0.2326, 0.1242, 0.1108, 0.1565],\n",
      "        [0.1435, 0.2074, 0.2046, 0.1462, 0.1263, 0.1720],\n",
      "        [0.1526, 0.1958, 0.1975, 0.1367, 0.1879, 0.1295],\n",
      "        [0.1385, 0.2184, 0.2128, 0.1420, 0.0988, 0.1896]])\n"
     ]
    }
   ],
   "execution_count": 56
  },
  {
   "metadata": {},
   "cell_type": "markdown",
   "source": [
    "- dim=-1로 하면 softmax가 attn_scores tensor의 마지막 차원을 따라 정규화를 수행\n",
    "- 예) 2차원 tensor라면, 열을 따라서 각 행의 값을 모두 더해 1이 되도록 정규화"
   ],
   "id": "5e809b3f432c0e65"
  },
  {
   "metadata": {
    "ExecuteTime": {
     "end_time": "2025-10-26T13:56:25.337409Z",
     "start_time": "2025-10-26T13:56:25.333729Z"
    }
   },
   "cell_type": "code",
   "source": [
    "row_2_sum = sum([0.1385, 0.2379, 0.2333, 0.1240, 0.1082, 0.1581])\n",
    "\n",
    "print(\"두 번째 행의 합: \", row_2_sum)\n",
    "print(\"모든 행의 합: \", attn_weights.sum(dim=-1))"
   ],
   "id": "60fefc7165015d2c",
   "outputs": [
    {
     "name": "stdout",
     "output_type": "stream",
     "text": [
      "두 번째 행의 합:  1.0\n",
      "모든 행의 합:  tensor([1.0000, 1.0000, 1.0000, 1.0000, 1.0000, 1.0000])\n"
     ]
    }
   ],
   "execution_count": 57
  },
  {
   "metadata": {},
   "cell_type": "markdown",
   "source": "- 어텐션 가중치와 입력을 행렬 곱셈하여 모든 문맥 벡터 계산",
   "id": "872385761c9a7885"
  },
  {
   "metadata": {
    "ExecuteTime": {
     "end_time": "2025-10-26T13:56:25.350725Z",
     "start_time": "2025-10-26T13:56:25.347668Z"
    }
   },
   "cell_type": "code",
   "source": [
    "all_context_vecs = attn_weights @ inputs\n",
    "print(all_context_vecs)"
   ],
   "id": "e79ee7b6e0ebcb21",
   "outputs": [
    {
     "name": "stdout",
     "output_type": "stream",
     "text": [
      "tensor([[0.4421, 0.5931, 0.5790],\n",
      "        [0.4419, 0.6515, 0.5683],\n",
      "        [0.4431, 0.6496, 0.5671],\n",
      "        [0.4304, 0.6298, 0.5510],\n",
      "        [0.4671, 0.5910, 0.5266],\n",
      "        [0.4177, 0.6503, 0.5645]])\n"
     ]
    }
   ],
   "execution_count": 58
  },
  {
   "metadata": {
    "ExecuteTime": {
     "end_time": "2025-10-26T13:56:25.362901Z",
     "start_time": "2025-10-26T13:56:25.360267Z"
    }
   },
   "cell_type": "code",
   "source": "print(\"앞서 계산한 두 번째 문맥 벡터: \", context_vec_2)",
   "id": "75c883e7da0bec1f",
   "outputs": [
    {
     "name": "stdout",
     "output_type": "stream",
     "text": [
      "앞서 계산한 두 번째 문맥 벡터:  tensor([0.4419, 0.6515, 0.5683])\n"
     ]
    }
   ],
   "execution_count": 59
  },
  {
   "metadata": {},
   "cell_type": "markdown",
   "source": [
    "## 3.4 훈련 가능한 가중치를 가진 self Attention 구현하기\n",
    "- self Attention 메커니즘을 scaled dot-product attention 이라고 부른다.\n",
    "- 훈련 가능한 가중치를 가진 self Attention 메커니즘은 특정 입력 원소에 대한 입력 벡터의 가중치 합으로 문백 벡터를 계산한다.\n",
    "    - self Attention과 가장 큰 차이점은 모델 훈련 과정에서 업데이트되는 가중치 행렬이 추가된 것\n",
    "\n",
    "### 3.4.1 단계별로 Attention 가중치 계산하기\n",
    "- 훈련 가능한 가중치 행렬 3개 (Wq, Wk, Wv)를 추가하여 self Attention 메커니즘을 단계별로 구현\n",
    "- 예시를 위해 먼저 하나의 문맥 벡터를 계산 하고 다중에 모든 문맥 벡터를 계산"
   ],
   "id": "c6aff0e776a3ff9a"
  },
  {
   "metadata": {
    "ExecuteTime": {
     "end_time": "2025-10-26T13:56:25.374049Z",
     "start_time": "2025-10-26T13:56:25.372174Z"
    }
   },
   "cell_type": "code",
   "source": [
    "x_2 = inputs[1]\n",
    "d_in = inputs.shape[1]\n",
    "d_out = 2"
   ],
   "id": "ca565587166626ae",
   "outputs": [],
   "execution_count": 60
  },
  {
   "metadata": {},
   "cell_type": "markdown",
   "source": "- 출력을 간단하기 만들려고 requires_grad=False 모델 훈련 시에는 True로 지정하여 가중치 행렬을 업데이트해야 한다.",
   "id": "fe42da27e0132f04"
  },
  {
   "metadata": {
    "ExecuteTime": {
     "end_time": "2025-10-26T13:56:25.385031Z",
     "start_time": "2025-10-26T13:56:25.381595Z"
    }
   },
   "cell_type": "code",
   "source": [
    "torch.manual_seed(123)\n",
    "\n",
    "w_query = torch.nn.Parameter(torch.rand(d_in, d_out), requires_grad=False)\n",
    "w_key = torch.nn.Parameter(torch.rand(d_in, d_out), requires_grad=False)\n",
    "w_value = torch.nn.Parameter(torch.rand(d_in, d_out), requires_grad=False)"
   ],
   "id": "f7bc76317adfc17b",
   "outputs": [],
   "execution_count": 61
  },
  {
   "metadata": {
    "ExecuteTime": {
     "end_time": "2025-10-26T13:56:25.391546Z",
     "start_time": "2025-10-26T13:56:25.389075Z"
    }
   },
   "cell_type": "code",
   "source": [
    "query_2 = x_2 @ w_query\n",
    "key_2 = x_2 @ w_key\n",
    "value_2 = x_2 @ w_value\n",
    "\n",
    "print(query_2)"
   ],
   "id": "3bd206af8f1b9331",
   "outputs": [
    {
     "name": "stdout",
     "output_type": "stream",
     "text": [
      "tensor([0.4306, 1.4551])\n"
     ]
    }
   ],
   "execution_count": 62
  },
  {
   "metadata": {
    "ExecuteTime": {
     "end_time": "2025-10-26T13:56:25.405631Z",
     "start_time": "2025-10-26T13:56:25.403303Z"
    }
   },
   "cell_type": "code",
   "source": [
    "# 6개의 입력 토큰을 3차원에서 2차원 임베딩 공간에 투영\n",
    "\n",
    "keys = inputs @ w_key\n",
    "values = inputs @ w_value\n",
    "\n",
    "print(\"keys.shape: \", keys.shape)\n",
    "print(\"values.shape: \", values.shape)"
   ],
   "id": "98a1368438d8951d",
   "outputs": [
    {
     "name": "stdout",
     "output_type": "stream",
     "text": [
      "keys.shape:  torch.Size([6, 2])\n",
      "values.shape:  torch.Size([6, 2])\n"
     ]
    }
   ],
   "execution_count": 63
  },
  {
   "metadata": {},
   "cell_type": "markdown",
   "source": "- 어텐션 점수 계산",
   "id": "317ad87ce94c6dc2"
  },
  {
   "metadata": {
    "ExecuteTime": {
     "end_time": "2025-10-26T13:56:25.429303Z",
     "start_time": "2025-10-26T13:56:25.426969Z"
    }
   },
   "cell_type": "code",
   "source": [
    "keys_2 = keys[1]\n",
    "attn_score_22 = query_2.dot(keys_2)\n",
    "\n",
    "print(attn_score_22)"
   ],
   "id": "c783c376f8ef13f1",
   "outputs": [
    {
     "name": "stdout",
     "output_type": "stream",
     "text": [
      "tensor(1.8524)\n"
     ]
    }
   ],
   "execution_count": 64
  },
  {
   "metadata": {},
   "cell_type": "markdown",
   "source": "- 행렬 곱으로 일반화하여 모든 어텐션 점수 계산",
   "id": "5e2374c87351e6a"
  },
  {
   "metadata": {
    "ExecuteTime": {
     "end_time": "2025-10-26T13:56:25.448879Z",
     "start_time": "2025-10-26T13:56:25.446415Z"
    }
   },
   "cell_type": "code",
   "source": [
    "attn_scores_2 = query_2 @ keys.T\n",
    "print(attn_scores_2)"
   ],
   "id": "31ac107c2777707e",
   "outputs": [
    {
     "name": "stdout",
     "output_type": "stream",
     "text": [
      "tensor([1.2705, 1.8524, 1.8111, 1.0795, 0.5577, 1.5440])\n"
     ]
    }
   ],
   "execution_count": 65
  },
  {
   "metadata": {},
   "cell_type": "markdown",
   "source": "- attention score에서 attention 가중치 구하기",
   "id": "54eb649ad89f1cc0"
  },
  {
   "metadata": {
    "ExecuteTime": {
     "end_time": "2025-10-26T13:56:25.471274Z",
     "start_time": "2025-10-26T13:56:25.467361Z"
    }
   },
   "cell_type": "code",
   "source": [
    "d_k = keys.shape[-1]\n",
    "attn_weights_2 = torch.softmax(attn_scores_2 / d_k ** 0.5, dim=-1)\n",
    "\n",
    "print(attn_weights_2)"
   ],
   "id": "fd51af19bc622cf9",
   "outputs": [
    {
     "name": "stdout",
     "output_type": "stream",
     "text": [
      "tensor([0.1500, 0.2264, 0.2199, 0.1311, 0.0906, 0.1820])\n"
     ]
    }
   ],
   "execution_count": 66
  },
  {
   "metadata": {},
   "cell_type": "markdown",
   "source": [
    "> [!note]\n",
    "> 스케일드 점곱 어텐션을 사용하는 이유\n",
    "> - 임베딩 차원의 크기로 정규화를 하는 이유\n",
    ">    - 그레이디언트가 작아지는 것을 피하기 위해 (훈련 성능을 높이기 위해)\n",
    ">    - 임베팅 차원이 크면 역전파 과정에서 매우 작은 그레이디언트르 생성\n",
    "> - 임베딩 차원의 제곱그능로 나누기 때문에 self Attention 메커니즘을 스케일드 점곱 어텐션이라고 부른다.\n",
    "\n",
    "- 입력 벡터에 대한 가중치 합으로 문맥 벡터를 계산했을 때 와 비슷하게\n",
    "- value 벡터에 대한 가중치 합으로 문맥 벡터를 계산한다."
   ],
   "id": "eef0d7874f8edfa7"
  },
  {
   "metadata": {
    "ExecuteTime": {
     "end_time": "2025-10-26T13:56:25.482689Z",
     "start_time": "2025-10-26T13:56:25.480173Z"
    }
   },
   "cell_type": "code",
   "source": [
    "context_vec_2 = attn_weights_2 @ values\n",
    "\n",
    "print(context_vec_2)"
   ],
   "id": "4d3498a4e438bb45",
   "outputs": [
    {
     "name": "stdout",
     "output_type": "stream",
     "text": [
      "tensor([0.3061, 0.8210])\n"
     ]
    }
   ],
   "execution_count": 67
  },
  {
   "metadata": {},
   "cell_type": "markdown",
   "source": "### 3.4.2 self Attention 파이썬 클래스 구현하기",
   "id": "8ef1c3180830c2db"
  },
  {
   "metadata": {
    "ExecuteTime": {
     "end_time": "2025-10-26T13:56:25.496297Z",
     "start_time": "2025-10-26T13:56:25.493430Z"
    }
   },
   "cell_type": "code",
   "source": [
    "import torch.nn as nn\n",
    "\n",
    "class SelfAttention_v1(nn.Module):\n",
    "    def __init__(self, d_in, d_out):\n",
    "        super().__init__()\n",
    "\n",
    "        self.w_query = nn.Parameter(torch.rand(d_in, d_out))\n",
    "        self.w_key = nn.Parameter(torch.rand(d_in, d_out))\n",
    "        self.w_value = nn.Parameter(torch.rand(d_in, d_out))\n",
    "\n",
    "    def forward(self, x):\n",
    "        keys = x @ self.w_key\n",
    "        queries = x @ self.w_query\n",
    "        values = x @ self.w_value\n",
    "\n",
    "        attn_scores = queries @ keys.T  # omega\n",
    "        attn_weights = torch.softmax(\n",
    "            attn_scores / keys.shape[-1] ** 0.5, dim=-1\n",
    "        )\n",
    "\n",
    "        context_vec = attn_weights @ values\n",
    "\n",
    "        return context_vec"
   ],
   "id": "54bb7817ca264d7c",
   "outputs": [],
   "execution_count": 68
  },
  {
   "metadata": {
    "ExecuteTime": {
     "end_time": "2025-10-26T13:56:25.509389Z",
     "start_time": "2025-10-26T13:56:25.506231Z"
    }
   },
   "cell_type": "code",
   "source": [
    "torch.manual_seed(123)\n",
    "sa_v1 = SelfAttention_v1(d_in, d_out)\n",
    "\n",
    "print(sa_v1(inputs))"
   ],
   "id": "fad82e351a73d1ed",
   "outputs": [
    {
     "name": "stdout",
     "output_type": "stream",
     "text": [
      "tensor([[0.2996, 0.8053],\n",
      "        [0.3061, 0.8210],\n",
      "        [0.3058, 0.8203],\n",
      "        [0.2948, 0.7939],\n",
      "        [0.2927, 0.7891],\n",
      "        [0.2990, 0.8040]], grad_fn=<MmBackward0>)\n"
     ]
    }
   ],
   "execution_count": 69
  },
  {
   "metadata": {},
   "cell_type": "markdown",
   "source": [
    "- SelfAttention_v1 구현을 pytorch의 nn.Linear 층을 사용하도록 개선할 수 있다.\n",
    "- nn.Linear는 bias unit을 사용하지 않는 경우 행렬 곱셈과 동일한 연산을 수행\n",
    "- nn.Linear 층은 최적화된 가중치 초기화 방법을 사용할 수 있어 모델 훈련을 안정적이고 효율적으로 만든다."
   ],
   "id": "5b8c6c8fdab01bd9"
  },
  {
   "metadata": {
    "ExecuteTime": {
     "end_time": "2025-10-26T13:56:25.521890Z",
     "start_time": "2025-10-26T13:56:25.519480Z"
    }
   },
   "cell_type": "code",
   "source": [
    "class SelfAttention_v2(nn.Module):\n",
    "    def __init__(self, d_in, d_out, qkv_bias=False):\n",
    "        super().__init__()\n",
    "\n",
    "        self.w_query = nn.Linear(d_in, d_out, bias=qkv_bias)\n",
    "        self.w_key = nn.Linear(d_in, d_out, bias=qkv_bias)\n",
    "        self.w_value = nn.Linear(d_in, d_out, bias=qkv_bias)\n",
    "\n",
    "    def forward(self, x):\n",
    "        keys = self.w_key(x)\n",
    "        queries = self.w_query(x)\n",
    "        values = self.w_value(x)\n",
    "\n",
    "        attn_scores = queries @ keys.T\n",
    "        attn_weights = torch.softmax(\n",
    "            attn_scores / keys.shape[-1] ** 0.5, dim=-1\n",
    "        )\n",
    "\n",
    "        context_vec = attn_weights @ values\n",
    "\n",
    "        return context_vec"
   ],
   "id": "9f877e13bd3c967a",
   "outputs": [],
   "execution_count": 70
  },
  {
   "metadata": {
    "ExecuteTime": {
     "end_time": "2025-10-26T13:56:59.928174Z",
     "start_time": "2025-10-26T13:56:59.922153Z"
    }
   },
   "cell_type": "code",
   "source": [
    "torch.manual_seed(789)\n",
    "sa_v2 = SelfAttention_v2(d_in, d_out)\n",
    "\n",
    "print(sa_v2(inputs))"
   ],
   "id": "3c6b1e9bcd76784c",
   "outputs": [
    {
     "name": "stdout",
     "output_type": "stream",
     "text": [
      "tensor([[-0.0739,  0.0713],\n",
      "        [-0.0748,  0.0703],\n",
      "        [-0.0749,  0.0702],\n",
      "        [-0.0760,  0.0685],\n",
      "        [-0.0763,  0.0679],\n",
      "        [-0.0754,  0.0693]], grad_fn=<MmBackward0>)\n"
     ]
    }
   ],
   "execution_count": 72
  },
  {
   "metadata": {},
   "cell_type": "markdown",
   "source": [
    "## 3.5 코잘 attention으로 미래 단어를 감추기\n",
    "- masked attention 이라 부르는 코잘 attention은 self attention의 특별한 형태\n",
    "    - 주어진 토큰으로 attention score를 계산할 때 시퀀스의 이전 입력과 현재 입력만 참조하도록 한다.\n",
    "\n",
    "### 3.5.1 코잘 attention mask 적용하기\n",
    "- softmax 함수를 사용해 attention weight를 계산한다"
   ],
   "id": "95fb92051112e258"
  },
  {
   "metadata": {
    "ExecuteTime": {
     "end_time": "2025-10-26T14:23:42.796840Z",
     "start_time": "2025-10-26T14:23:42.792182Z"
    }
   },
   "cell_type": "code",
   "source": [
    "queries = sa_v2.w_query(inputs)\n",
    "keys = sa_v2.w_key(inputs)\n",
    "\n",
    "attn_scores = queries @ keys.T\n",
    "attn_weights = torch.softmax(attn_scores / keys.shape[-1] ** 0.5, dim=-1)\n",
    "\n",
    "print(attn_weights)"
   ],
   "id": "ad5df6edc9a6ab99",
   "outputs": [
    {
     "name": "stdout",
     "output_type": "stream",
     "text": [
      "tensor([[0.1921, 0.1646, 0.1652, 0.1550, 0.1721, 0.1510],\n",
      "        [0.2041, 0.1659, 0.1662, 0.1496, 0.1665, 0.1477],\n",
      "        [0.2036, 0.1659, 0.1662, 0.1498, 0.1664, 0.1480],\n",
      "        [0.1869, 0.1667, 0.1668, 0.1571, 0.1661, 0.1564],\n",
      "        [0.1830, 0.1669, 0.1670, 0.1588, 0.1658, 0.1585],\n",
      "        [0.1935, 0.1663, 0.1666, 0.1542, 0.1666, 0.1529]],\n",
      "       grad_fn=<SoftmaxBackward0>)\n"
     ]
    }
   ],
   "execution_count": 75
  },
  {
   "metadata": {},
   "cell_type": "markdown",
   "source": "- pytorch tril 함수로 주대각선 위의 값이 0인 마스크를 만든다.",
   "id": "f9226f3293ad851a"
  },
  {
   "metadata": {
    "ExecuteTime": {
     "end_time": "2025-10-26T14:24:55.519870Z",
     "start_time": "2025-10-26T14:24:55.512964Z"
    }
   },
   "cell_type": "code",
   "source": [
    "context_length = attn_scores.shape[0]\n",
    "mask_simple = torch.tril(torch.ones(context_length, context_length))\n",
    "\n",
    "print(mask_simple)"
   ],
   "id": "cd1b707dd7630ab7",
   "outputs": [
    {
     "name": "stdout",
     "output_type": "stream",
     "text": [
      "tensor([[1., 0., 0., 0., 0., 0.],\n",
      "        [1., 1., 0., 0., 0., 0.],\n",
      "        [1., 1., 1., 0., 0., 0.],\n",
      "        [1., 1., 1., 1., 0., 0.],\n",
      "        [1., 1., 1., 1., 1., 0.],\n",
      "        [1., 1., 1., 1., 1., 1.]])\n"
     ]
    }
   ],
   "execution_count": 76
  },
  {
   "metadata": {},
   "cell_type": "markdown",
   "source": "- 마스크와 attention weight를 곱해서 주대각선 위의 값을 0으로 만든다.",
   "id": "ee0e8d37698cc1e0"
  },
  {
   "metadata": {
    "ExecuteTime": {
     "end_time": "2025-10-26T14:26:01.629066Z",
     "start_time": "2025-10-26T14:26:01.623454Z"
    }
   },
   "cell_type": "code",
   "source": [
    "masked_simple = attn_weights * mask_simple\n",
    "\n",
    "print(masked_simple)"
   ],
   "id": "aa1c3eac3c478214",
   "outputs": [
    {
     "name": "stdout",
     "output_type": "stream",
     "text": [
      "tensor([[0.1921, 0.0000, 0.0000, 0.0000, 0.0000, 0.0000],\n",
      "        [0.2041, 0.1659, 0.0000, 0.0000, 0.0000, 0.0000],\n",
      "        [0.2036, 0.1659, 0.1662, 0.0000, 0.0000, 0.0000],\n",
      "        [0.1869, 0.1667, 0.1668, 0.1571, 0.0000, 0.0000],\n",
      "        [0.1830, 0.1669, 0.1670, 0.1588, 0.1658, 0.0000],\n",
      "        [0.1935, 0.1663, 0.1666, 0.1542, 0.1666, 0.1529]],\n",
      "       grad_fn=<MulBackward0>)\n"
     ]
    }
   ],
   "execution_count": 77
  },
  {
   "metadata": {},
   "cell_type": "markdown",
   "source": [
    "- 가중치의 합이 1이 되도록 다시 정규화 한다.\n",
    "- 각 행의 합으로 행의 원소를 나누면 된다."
   ],
   "id": "c05d51c1021b8cf9"
  },
  {
   "metadata": {
    "ExecuteTime": {
     "end_time": "2025-10-26T14:27:37.624389Z",
     "start_time": "2025-10-26T14:27:37.619569Z"
    }
   },
   "cell_type": "code",
   "source": [
    "row_sums = masked_simple.sum(dim=-1, keepdim=True)\n",
    "masked_simple_norm = masked_simple / row_sums\n",
    "\n",
    "print(masked_simple_norm)"
   ],
   "id": "c5fef5976b97268d",
   "outputs": [
    {
     "name": "stdout",
     "output_type": "stream",
     "text": [
      "tensor([[1.0000, 0.0000, 0.0000, 0.0000, 0.0000, 0.0000],\n",
      "        [0.5517, 0.4483, 0.0000, 0.0000, 0.0000, 0.0000],\n",
      "        [0.3800, 0.3097, 0.3103, 0.0000, 0.0000, 0.0000],\n",
      "        [0.2758, 0.2460, 0.2462, 0.2319, 0.0000, 0.0000],\n",
      "        [0.2175, 0.1983, 0.1984, 0.1888, 0.1971, 0.0000],\n",
      "        [0.1935, 0.1663, 0.1666, 0.1542, 0.1666, 0.1529]],\n",
      "       grad_fn=<DivBackward0>)\n"
     ]
    }
   ],
   "execution_count": 78
  },
  {
   "metadata": {},
   "cell_type": "markdown",
   "source": [
    "- softmax 함수는 입력을 확률 분포로 변환한다.\n",
    "- 한 행에 음의 무한대 값이 있으면 softmax는 해당 값을 0으로 만든다.\n",
    "- 주대각선 위의 값이 1인 mask를 만들고 1을 -inf으로 바꾸는 식으로 더 효율적인 masking 기법을 구현할 수 있다."
   ],
   "id": "2777e35e3218bed9"
  },
  {
   "metadata": {
    "ExecuteTime": {
     "end_time": "2025-10-26T14:38:22.402997Z",
     "start_time": "2025-10-26T14:38:22.395629Z"
    }
   },
   "cell_type": "code",
   "source": [
    "mask = torch.triu(torch.ones(context_length, context_length), diagonal=1)\n",
    "\n",
    "masked = attn_scores.masked_fill(mask.bool(), -torch.inf)\n",
    "\n",
    "print(masked)"
   ],
   "id": "bf13dc6bbe6dbc26",
   "outputs": [
    {
     "name": "stdout",
     "output_type": "stream",
     "text": [
      "tensor([[False,  True,  True,  True,  True,  True],\n",
      "        [False, False,  True,  True,  True,  True],\n",
      "        [False, False, False,  True,  True,  True],\n",
      "        [False, False, False, False,  True,  True],\n",
      "        [False, False, False, False, False,  True],\n",
      "        [False, False, False, False, False, False]])\n",
      "tensor([[0.2899,   -inf,   -inf,   -inf,   -inf,   -inf],\n",
      "        [0.4656, 0.1723,   -inf,   -inf,   -inf,   -inf],\n",
      "        [0.4594, 0.1703, 0.1731,   -inf,   -inf,   -inf],\n",
      "        [0.2642, 0.1024, 0.1036, 0.0186,   -inf,   -inf],\n",
      "        [0.2183, 0.0874, 0.0882, 0.0177, 0.0786,   -inf],\n",
      "        [0.3408, 0.1270, 0.1290, 0.0198, 0.1290, 0.0078]],\n",
      "       grad_fn=<MaskedFillBackward0>)\n"
     ]
    }
   ],
   "execution_count": 82
  },
  {
   "metadata": {
    "ExecuteTime": {
     "end_time": "2025-10-26T14:34:29.214885Z",
     "start_time": "2025-10-26T14:34:29.209542Z"
    }
   },
   "cell_type": "code",
   "source": [
    "attn_weights = torch.softmax(masked / keys.shape[-1] ** 0.5, dim=1)\n",
    "\n",
    "print(attn_weights)"
   ],
   "id": "faea320a84e07bc7",
   "outputs": [
    {
     "name": "stdout",
     "output_type": "stream",
     "text": [
      "tensor([[1.0000, 0.0000, 0.0000, 0.0000, 0.0000, 0.0000],\n",
      "        [0.5517, 0.4483, 0.0000, 0.0000, 0.0000, 0.0000],\n",
      "        [0.3800, 0.3097, 0.3103, 0.0000, 0.0000, 0.0000],\n",
      "        [0.2758, 0.2460, 0.2462, 0.2319, 0.0000, 0.0000],\n",
      "        [0.2175, 0.1983, 0.1984, 0.1888, 0.1971, 0.0000],\n",
      "        [0.1935, 0.1663, 0.1666, 0.1542, 0.1666, 0.1529]],\n",
      "       grad_fn=<SoftmaxBackward0>)\n"
     ]
    }
   ],
   "execution_count": 80
  },
  {
   "metadata": {},
   "cell_type": "markdown",
   "source": [
    "> [!note]\n",
    "> - tril()은 하삼각 행렬을 반환한다. (주대각선 위의 값을 0)\n",
    "> - tiru()는 상삼각 행렬을 반환한다. (주대각선 아래의 값을 0으로)\n",
    "> - diagonal 값이 0일 때, 주대각선의 원소를 포함하여 반환\n",
    "> - 1일 때, 주대각선의 원소도 0으로 만듬\n",
    "> - bool()은 tensor 값을 bool type으로 변환\n",
    "> - masked_fill()은 첫 번째 매개변수로 전달된 bool mask가 1인 위치에 두 번째 매개변수 값을 채운다."
   ],
   "id": "62ea9881cd1076fc"
  }
 ],
 "metadata": {
  "kernelspec": {
   "display_name": "Python 3",
   "language": "python",
   "name": "python3"
  },
  "language_info": {
   "codemirror_mode": {
    "name": "ipython",
    "version": 2
   },
   "file_extension": ".py",
   "mimetype": "text/x-python",
   "name": "python",
   "nbconvert_exporter": "python",
   "pygments_lexer": "ipython2",
   "version": "2.7.6"
  }
 },
 "nbformat": 4,
 "nbformat_minor": 5
}
